{
  "nbformat": 4,
  "nbformat_minor": 0,
  "metadata": {
    "colab": {
      "provenance": [],
      "authorship_tag": "ABX9TyNaZQgDgUN488p8+SQv66ru",
      "include_colab_link": true
    },
    "kernelspec": {
      "name": "python3",
      "display_name": "Python 3"
    },
    "language_info": {
      "name": "python"
    }
  },
  "cells": [
    {
      "cell_type": "markdown",
      "metadata": {
        "id": "view-in-github",
        "colab_type": "text"
      },
      "source": [
        "<a href=\"https://colab.research.google.com/github/Rajkumar-O/2205a21028/blob/main/Assignment_7.ipynb\" target=\"_parent\"><img src=\"https://colab.research.google.com/assets/colab-badge.svg\" alt=\"Open In Colab\"/></a>"
      ]
    },
    {
      "cell_type": "code",
      "execution_count": 12,
      "metadata": {
        "colab": {
          "base_uri": "https://localhost:8080/"
        },
        "id": "Hfv2XCdPZnHR",
        "outputId": "5a6c9b07-3e0d-484c-a16c-39b2d5031a05"
      },
      "outputs": [
        {
          "output_type": "stream",
          "name": "stdout",
          "text": [
            "enter the receiving end voltage220000\n",
            "enter the resistance per phase per km0.15\n",
            "enter the inductive per phase per km0.003263\n",
            "enter the length of the transmission line40\n",
            "enter the power factor0.8\n",
            "enter the apparent power381000000\n",
            "0:lagginr 1:leading1\n",
            "voltage regulation: 25.260605121828775\n",
            "sending power 322795165.2892562\n",
            "efficiency 94.42520606740476\n"
          ]
        }
      ],
      "source": [
        "import math as mt\n",
        "vr=float(input(\"enter the receiving end voltage\"))\n",
        "r=float(input(\"enter the resistance per phase per km\"))\n",
        "l=float(input(\"enter the inductive per phase per km\"))\n",
        "length=float(input(\"enter the length of the transmission line\"))\n",
        "pf=float(input(\"enter the power factor\"))\n",
        "load=float(input(\"enter the apparent power\"))\n",
        "type_pf=int(input(\"0:lagginr 1:leading\"))\n",
        "vr_phase=vr/mt.sqrt(3)\n",
        "R=r*length\n",
        "L=l*length\n",
        "X=2*3.14*50*L\n",
        "Z=complex(R,X)\n",
        "P=load*pf\n",
        "Q=load*mt.sqrt(1-pf**2)\n",
        "if(type_pf==0):\n",
        "  S=complex(P,Q)\n",
        "else:\n",
        "  S=complex(P,Q)\n",
        "IR=(S.conjugate())/(3*vr_phase)\n",
        "VS=vr_phase+Z*IR\n",
        "voltage_regulation=(abs(VS)-vr_phase)*100/vr_phase\n",
        "print(\"voltage regulation:\",voltage_regulation)\n",
        "Ssend=3*VS*IR.conjugate()\n",
        "Psend=Ssend.real\n",
        "print(\"sending power\",Psend)\n",
        "eff=P*100/Psend\n",
        "print(\"efficiency\",eff)\n",
        "\n",
        "\n",
        "\n",
        "\n",
        "\n",
        "\n",
        "\n"
      ]
    }
  ]
}