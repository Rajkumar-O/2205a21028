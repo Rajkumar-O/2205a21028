{
  "nbformat": 4,
  "nbformat_minor": 0,
  "metadata": {
    "colab": {
      "provenance": [],
      "authorship_tag": "ABX9TyOXEZYBtcIdyHxHTZ4iJ87y",
      "include_colab_link": true
    },
    "kernelspec": {
      "name": "python3",
      "display_name": "Python 3"
    },
    "language_info": {
      "name": "python"
    }
  },
  "cells": [
    {
      "cell_type": "markdown",
      "metadata": {
        "id": "view-in-github",
        "colab_type": "text"
      },
      "source": [
        "<a href=\"https://colab.research.google.com/github/Rajkumar-O/2205a21028/blob/main/2205A21028_A1_T1.ipynb\" target=\"_parent\"><img src=\"https://colab.research.google.com/assets/colab-badge.svg\" alt=\"Open In Colab\"/></a>"
      ]
    },
    {
      "cell_type": "code",
      "execution_count": 5,
      "metadata": {
        "colab": {
          "base_uri": "https://localhost:8080/"
        },
        "id": "Z_wddlWiIuRl",
        "outputId": "45c4c578-82a3-442e-9360-375bb8a70a9c"
      },
      "outputs": [
        {
          "output_type": "stream",
          "name": "stdout",
          "text": [
            "enter the rating of the transformer in VoltAmperes=100\n",
            "enter the power factor of transformer=0.9\n",
            "enter the loading transformer=1\n",
            "enter the full load copper losses of the transformer in Watts= 50\n",
            "enter the core losses of the transfoemer in Watts=25\n",
            "copper losses of transformer at loading= 50.0\n",
            "efficiency of the transformer= 54.54545454545454 %\n",
            "load at where maximum efficiecy= 0.7071067811865476\n"
          ]
        }
      ],
      "source": [
        "Rating =float(input(\"enter the rating of the transformer in VoltAmperes=\"))\n",
        "pf=float(input(\"enter the power factor of transformer=\"))\n",
        "loading=float(input(\"enter the loading transformer=\"))\n",
        "copper_losses=float(input(\"enter the full load copper losses of the transformer in Watts= \"))\n",
        "core_losses=float(input(\"enter the core losses of the transfoemer in Watts=\"))\n",
        "copper_losses=(copper_losses*loading**2)\n",
        "print(\"copper losses of transformer at loading=\",copper_losses)\n",
        "efficiency=(((loading)*Rating*pf)/((loading*Rating*pf)+core_losses+copper_losses))*100\n",
        "print(\"efficiency of the transformer=\",efficiency,\"%\")\n",
        "import math\n",
        "Max_efficieny=math.sqrt(core_losses/copper_losses)\n",
        "print(\"load at where maximum efficiecy=\",Max_efficieny)\n",
        "\n"
      ]
    },
    {
      "cell_type": "code",
      "source": [],
      "metadata": {
        "id": "mOwwE8NqKal6"
      },
      "execution_count": null,
      "outputs": []
    }
  ]
}