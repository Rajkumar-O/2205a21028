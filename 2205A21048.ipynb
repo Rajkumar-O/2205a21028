{
  "nbformat": 4,
  "nbformat_minor": 0,
  "metadata": {
    "colab": {
      "provenance": [],
      "authorship_tag": "ABX9TyNZZcBa5JjjWMPQDsQ84M8u",
      "include_colab_link": true
    },
    "kernelspec": {
      "name": "python3",
      "display_name": "Python 3"
    },
    "language_info": {
      "name": "python"
    }
  },
  "cells": [
    {
      "cell_type": "markdown",
      "metadata": {
        "id": "view-in-github",
        "colab_type": "text"
      },
      "source": [
        "<a href=\"https://colab.research.google.com/github/Rajkumar-O/2205a21028/blob/main/2205A21048.ipynb\" target=\"_parent\"><img src=\"https://colab.research.google.com/assets/colab-badge.svg\" alt=\"Open In Colab\"/></a>"
      ]
    },
    {
      "cell_type": "code",
      "execution_count": 1,
      "metadata": {
        "colab": {
          "base_uri": "https://localhost:8080/"
        },
        "id": "LjJEY79aWfHM",
        "outputId": "f0c431f9-1109-4117-8401-dbbc6d484ee7"
      },
      "outputs": [
        {
          "output_type": "stream",
          "name": "stdout",
          "text": [
            "current date and time 2024-09-09 10:36:07.353487\n",
            "formatted date and time 2024-09-09 10:36:07\n",
            "enter the previos month units=7183\n",
            "enter the current month units=7144\n",
            "enter the type of customer 0;res 1;com 2;adv0\n",
            "----------------------------\n",
            "TGNPDCL TELANGANA NORTHEN POWER DISTRIBUTION COMPANY LIMITED \n",
            "formatted date and time: 2024-09-09 10:36:07\n",
            "----------------------------\n",
            "previous units: 7183\n",
            "current units: 7144\n",
            "energy chargers= -76.05\n",
            "fixed chargers= 10\n",
            "customer chargers= 40\n",
            "electricity duty= -2.34\n",
            "bill_amount= -28.389999999999997\n"
          ]
        }
      ],
      "source": [
        "import datetime\n",
        "now=datetime.datetime.now()\n",
        "print(\"current date and time\",now)\n",
        "formatted_now=now.strftime(\"%Y-%m-%d %H:%M:%S\")\n",
        "count=0\n",
        "print(\"formatted date and time\",formatted_now)\n",
        "pu=int(input(\"enter the previos month units=\"))\n",
        "cu=int(input(\"enter the current month units=\"))\n",
        "tc=int(input(\"enter the type of customer 0;res 1;com 2;adv\"))\n",
        "u=cu-pu\n",
        "ed=0.06*u\n",
        "if(tc==0):\n",
        "  if(u<100):\n",
        "    if(u<50):\n",
        "      ec=1.95*u\n",
        "      fc=10\n",
        "      cc=40\n",
        "    else:\n",
        "      ec=3.10*u\n",
        "      fc=10\n",
        "      cc=70\n",
        "  else:\n",
        "    if(u>100 and u<=200):\n",
        "      ec=100*3.4+(u-100)*4.8\n",
        "      fc=10\n",
        "      cc=90\n",
        "    else:\n",
        "        print(\"this application is not supppoted\")\n",
        "        count=count+1\n",
        "if(tc==1):\n",
        "  if(u<50):\n",
        "    ec=7*u\n",
        "    fc=10\n",
        "    cc=50\n",
        "  else:\n",
        "    print(\"this application is not supppoted\")\n",
        "    count=count+1\n",
        "\n",
        "if(tc==2):\n",
        "  ec=13*u\n",
        "  fc=70\n",
        "  cc=160\n",
        "\n",
        "if(count==0):\n",
        "  bill_amount=ec+fc+cc+ed\n",
        "  print(\"----------------------------\")\n",
        "  print(\"TGNPDCL TELANGANA NORTHEN POWER DISTRIBUTION COMPANY LIMITED \")\n",
        "  print(\"formatted date and time:\",formatted_now)\n",
        "  print(\"----------------------------\")\n",
        "  print(\"previous units:\",pu)\n",
        "  print(\"current units:\",cu)\n",
        "  print(\"energy chargers=\",ec)\n",
        "  print(\"fixed chargers=\",fc)\n",
        "  print(\"customer chargers=\",cc)\n",
        "  print(\"electricity duty=\",ed)\n",
        "  print(\"bill_amount=\",bill_amount)\n"
      ]
    }
  ]
}