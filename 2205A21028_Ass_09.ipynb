{
  "nbformat": 4,
  "nbformat_minor": 0,
  "metadata": {
    "colab": {
      "provenance": [],
      "authorship_tag": "ABX9TyPmM4i4pf0mk5dl2KaFCrZk",
      "include_colab_link": true
    },
    "kernelspec": {
      "name": "python3",
      "display_name": "Python 3"
    },
    "language_info": {
      "name": "python"
    }
  },
  "cells": [
    {
      "cell_type": "markdown",
      "metadata": {
        "id": "view-in-github",
        "colab_type": "text"
      },
      "source": [
        "<a href=\"https://colab.research.google.com/github/Rajkumar-O/2205a21028/blob/main/2205A21028_Ass_09.ipynb\" target=\"_parent\"><img src=\"https://colab.research.google.com/assets/colab-badge.svg\" alt=\"Open In Colab\"/></a>"
      ]
    },
    {
      "cell_type": "code",
      "source": [
        "import numpy as np\n",
        "\n",
        "# Define the marks data as a NumPy array\n",
        "marks = np.array([[101, 35, 98, 43, 65, 78, 96],\n",
        "                 [102, 87, 45, 98, 65, 34, 78],\n",
        "                 [103, 45, 26, 78, 45, 67, 34],\n",
        "                 [104, 45, 56, 67, 78, 89, 90],\n",
        "                 [105, 23, 34, 45, 56, 76, 87]])\n",
        "\n",
        "# Get the roll number from the user\n",
        "roll_no = int(input(\"Enter Hall Ticket No.: \"))\n",
        "\n",
        "# Find the index of the student's marks in the array\n",
        "student_index = np.where(marks[:, 0] == roll_no)[0][0]\n",
        "\n",
        "# Extract the student's marks\n",
        "student_marks = marks[student_index, 1:]\n",
        "\n",
        "# Check if the student passed in all subjects\n",
        "if np.all(student_marks >= 35):\n",
        "    # Calculate the percentage\n",
        "    percentage = np.mean(student_marks)\n",
        "    print(\"KINDERLAND SCHOOL\")\n",
        "    print(\"Score Card\")\n",
        "    print(\"Roll No.:\", roll_no)\n",
        "    print(\"Telugu:\", student_marks[0])\n",
        "    print(\"English:\", student_marks[1])\n",
        "    print(\"Hindi:\", student_marks[2])\n",
        "    print(\"Maths:\", student_marks[3])\n",
        "    print(\"Science:\", student_marks[4])\n",
        "    print(\"Social:\", student_marks[5])\n",
        "    print(\"Results Status\")\n",
        "    print(\"Pass\")\n",
        "    print(\"Percentage of marks:\", percentage)\n",
        "else:\n",
        "    print(\"KINDERLAND SCHOOL\")\n",
        "    print(\"Score Card\")\n",
        "    print(\"Roll No.:\", roll_no)\n",
        "    print(\"Telugu:\", student_marks[0])\n",
        "    print(\"English:\", student_marks[1])\n",
        "    print(\"Hindi:\", student_marks[2])\n",
        "    print(\"Maths:\", student_marks[3])\n",
        "    print(\"Science:\", student_marks[4])\n",
        "    print(\"Social:\", student_marks[5])\n",
        "    print(\"Results Status\")\n",
        "    print(\"Fail\")"
      ],
      "metadata": {
        "colab": {
          "base_uri": "https://localhost:8080/"
        },
        "id": "GMna_76xvaEU",
        "outputId": "b43b5153-0bd1-4d43-f8d1-c1866861dc75"
      },
      "execution_count": 4,
      "outputs": [
        {
          "output_type": "stream",
          "name": "stdout",
          "text": [
            "Enter Hall Ticket No.: 103\n",
            "KINDERLAND SCHOOL\n",
            "Score Card\n",
            "Roll No.: 103\n",
            "Telugu: 45\n",
            "English: 26\n",
            "Hindi: 78\n",
            "Maths: 45\n",
            "Science: 67\n",
            "Social: 34\n",
            "Results Status\n",
            "Fail\n"
          ]
        }
      ]
    }
  ]
}