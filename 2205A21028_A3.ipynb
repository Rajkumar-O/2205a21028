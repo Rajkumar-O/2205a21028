{
  "nbformat": 4,
  "nbformat_minor": 0,
  "metadata": {
    "colab": {
      "provenance": [],
      "authorship_tag": "ABX9TyPBR36+VEKWllJ80KIj9J5F",
      "include_colab_link": true
    },
    "kernelspec": {
      "name": "python3",
      "display_name": "Python 3"
    },
    "language_info": {
      "name": "python"
    }
  },
  "cells": [
    {
      "cell_type": "markdown",
      "metadata": {
        "id": "view-in-github",
        "colab_type": "text"
      },
      "source": [
        "<a href=\"https://colab.research.google.com/github/Rajkumar-O/2205a21028/blob/main/2205A21028_A3.ipynb\" target=\"_parent\"><img src=\"https://colab.research.google.com/assets/colab-badge.svg\" alt=\"Open In Colab\"/></a>"
      ]
    },
    {
      "cell_type": "code",
      "execution_count": 2,
      "metadata": {
        "colab": {
          "base_uri": "https://localhost:8080/"
        },
        "id": "Ub4pxN5FVbwy",
        "outputId": "1b60706c-b223-459c-9c4c-be8226c155e1"
      },
      "outputs": [
        {
          "output_type": "stream",
          "name": "stdout",
          "text": [
            "enter the v0:220\n",
            "enter the i0:2\n",
            "enter the w0:250\n",
            "enter the vsc:75\n",
            "enter the isc:10\n",
            "enter the wsc500\n",
            "enter the rating:5000\n",
            "enter the x:1\n",
            "enter the pf:1\n",
            "r0 value 193.6\n",
            "x0 value 133.67309875319802\n",
            "rhv value 5.0\n",
            "xhv value 5.5901699437494745\n",
            "efficiency value 86.95652173913044\n",
            "copper_losses value 500.0\n"
          ]
        }
      ],
      "source": [
        "import trans\n",
        "v0=int(input(\"enter the v0:\"))\n",
        "i0=int(input(\"enter the i0:\"))\n",
        "w0=int(input(\"enter the w0:\"))\n",
        "vsc=int(input(\"enter the vsc:\"))\n",
        "isc=int(input(\"enter the isc:\"))\n",
        "wsc=int(input(\"enter the wsc\"))\n",
        "rating=int(input(\"enter the rating:\"))\n",
        "x=float(input(\"enter the x:\"))\n",
        "pf=float(input(\"enter the pf:\"))\n",
        "\n",
        "[r0,x0]=trans.oc(v0,i0,w0)\n",
        "[rhv,xhv]=trans.sc(vsc,isc,wsc)\n",
        "[efficiency,copper]=trans.eff(rating,w0,wsc,x,pf)\n",
        "print(\"r0 value\",r0)\n",
        "print(\"x0 value\",x0)\n",
        "print(\"rhv value\",rhv)\n",
        "print(\"xhv value\",xhv)\n",
        "print(\"efficiency value\",efficiency)\n",
        "print(\"copper_losses value\",copper)"
      ]
    }
  ]
}