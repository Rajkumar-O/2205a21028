{
  "nbformat": 4,
  "nbformat_minor": 0,
  "metadata": {
    "colab": {
      "provenance": [],
      "authorship_tag": "ABX9TyMRsTCUzddsWaM1jb5NYoTw",
      "include_colab_link": true
    },
    "kernelspec": {
      "name": "python3",
      "display_name": "Python 3"
    },
    "language_info": {
      "name": "python"
    }
  },
  "cells": [
    {
      "cell_type": "markdown",
      "metadata": {
        "id": "view-in-github",
        "colab_type": "text"
      },
      "source": [
        "<a href=\"https://colab.research.google.com/github/Rajkumar-O/2205a21028/blob/main/transformer.ipynb\" target=\"_parent\"><img src=\"https://colab.research.google.com/assets/colab-badge.svg\" alt=\"Open In Colab\"/></a>"
      ]
    },
    {
      "cell_type": "code",
      "execution_count": null,
      "metadata": {
        "id": "o3oqik4oPC63"
      },
      "outputs": [],
      "source": [
        "def oc(vo,io,wo):\n",
        "  import math\n",
        "  npf=wo/(vo*io)\n",
        "  iw=io*npf\n",
        "  ro=vo/iw\n",
        "  imv=io*math.squr(1-npf**2)\n",
        "  xo=vo/imv\n",
        "\n",
        "  return ro,xo\n",
        "\n",
        "def sc(vsc,isc,wsc):\n",
        "  import math\n",
        "  rhv=wsc/(isc**2)\n",
        "  zsc=vsc/(isc)\n",
        "  xhv=math.sqrt(zsc**2-rhv**2)\n",
        "  return rhv,xhv\n",
        "\n",
        "def eff(rating,wo,wsc,x,pf):\n",
        "    efficiency(x*rating*100*pf)/(x*rating*pf+wo+(x**2)*wsc)\n",
        "    copper=wsc*(x**2)\n",
        "    return efficiency,copper\n",
        "\n"
      ]
    }
  ]
}