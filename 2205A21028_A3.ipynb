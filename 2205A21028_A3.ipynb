{
  "nbformat": 4,
  "nbformat_minor": 0,
  "metadata": {
    "colab": {
      "provenance": [],
      "authorship_tag": "ABX9TyOLlAGm+5yYiks0xj/fFYd1",
      "include_colab_link": true
    },
    "kernelspec": {
      "name": "python3",
      "display_name": "Python 3"
    },
    "language_info": {
      "name": "python"
    }
  },
  "cells": [
    {
      "cell_type": "markdown",
      "metadata": {
        "id": "view-in-github",
        "colab_type": "text"
      },
      "source": [
        "<a href=\"https://colab.research.google.com/github/Rajkumar-O/2205a21028/blob/main/2205A21028_A3.ipynb\" target=\"_parent\"><img src=\"https://colab.research.google.com/assets/colab-badge.svg\" alt=\"Open In Colab\"/></a>"
      ]
    },
    {
      "cell_type": "code",
      "execution_count": null,
      "metadata": {
        "colab": {
          "base_uri": "https://localhost:8080/",
          "height": 401
        },
        "id": "IHR1pt33V5Kb",
        "outputId": "1bb5edd2-6547-4511-c51c-c4d8b5118004"
      },
      "outputs": [
        {
          "name": "stdout",
          "output_type": "stream",
          "text": [
            "enter the transformer rating in voltampere=5000\n",
            "enter the open ckt test voltage in volts=220\n",
            "enter the open ckt test current in amps=2\n",
            "enter the open ckt test power in watts=250\n",
            "enter the short ckt test voltage in volts=75\n",
            "enter the short ckt test current in amps=10\n",
            "enter the short ckt test power in watts=500\n",
            "enter the power factor of the transformer=1\n",
            "enter the loading of the transformer=1\n"
          ]
        },
        {
          "output_type": "error",
          "ename": "UnboundLocalError",
          "evalue": "local variable 'iw' referenced before assignment",
          "traceback": [
            "\u001b[0;31m---------------------------------------------------------------------------\u001b[0m",
            "\u001b[0;31mUnboundLocalError\u001b[0m                         Traceback (most recent call last)",
            "\u001b[0;32m<ipython-input-13-44a1dcb868f4>\u001b[0m in \u001b[0;36m<cell line: 11>\u001b[0;34m()\u001b[0m\n\u001b[1;32m      9\u001b[0m \u001b[0mpf\u001b[0m\u001b[0;34m=\u001b[0m\u001b[0mfloat\u001b[0m\u001b[0;34m(\u001b[0m\u001b[0minput\u001b[0m\u001b[0;34m(\u001b[0m\u001b[0;34m\"enter the power factor of the transformer=\"\u001b[0m \u001b[0;34m)\u001b[0m\u001b[0;34m)\u001b[0m\u001b[0;34m\u001b[0m\u001b[0;34m\u001b[0m\u001b[0m\n\u001b[1;32m     10\u001b[0m \u001b[0mx\u001b[0m\u001b[0;34m=\u001b[0m\u001b[0mfloat\u001b[0m\u001b[0;34m(\u001b[0m\u001b[0minput\u001b[0m\u001b[0;34m(\u001b[0m\u001b[0;34m\"enter the loading of the transformer=\"\u001b[0m\u001b[0;34m)\u001b[0m\u001b[0;34m)\u001b[0m\u001b[0;34m\u001b[0m\u001b[0;34m\u001b[0m\u001b[0m\n\u001b[0;32m---> 11\u001b[0;31m \u001b[0;34m[\u001b[0m\u001b[0mro\u001b[0m\u001b[0;34m,\u001b[0m\u001b[0mxo\u001b[0m\u001b[0;34m]\u001b[0m\u001b[0;34m=\u001b[0m\u001b[0mtransformer\u001b[0m\u001b[0;34m.\u001b[0m\u001b[0moc\u001b[0m\u001b[0;34m(\u001b[0m\u001b[0mvo\u001b[0m\u001b[0;34m,\u001b[0m\u001b[0mio\u001b[0m\u001b[0;34m,\u001b[0m\u001b[0mwo\u001b[0m\u001b[0;34m)\u001b[0m\u001b[0;34m\u001b[0m\u001b[0;34m\u001b[0m\u001b[0m\n\u001b[0m\u001b[1;32m     12\u001b[0m \u001b[0;34m[\u001b[0m\u001b[0mrsc\u001b[0m\u001b[0;34m,\u001b[0m\u001b[0mxsc\u001b[0m\u001b[0;34m]\u001b[0m\u001b[0;34m=\u001b[0m\u001b[0mtransformer\u001b[0m\u001b[0;34m.\u001b[0m\u001b[0msc\u001b[0m\u001b[0;34m(\u001b[0m\u001b[0mvsc\u001b[0m\u001b[0;34m,\u001b[0m\u001b[0misc\u001b[0m\u001b[0;34m,\u001b[0m\u001b[0mwsc\u001b[0m\u001b[0;34m)\u001b[0m\u001b[0;34m\u001b[0m\u001b[0;34m\u001b[0m\u001b[0m\n\u001b[1;32m     13\u001b[0m \u001b[0;34m[\u001b[0m\u001b[0meffi\u001b[0m\u001b[0;34m,\u001b[0m\u001b[0mxcu\u001b[0m\u001b[0;34m]\u001b[0m\u001b[0;34m=\u001b[0m\u001b[0mtransformer\u001b[0m\u001b[0;34m.\u001b[0m\u001b[0meff\u001b[0m\u001b[0;34m(\u001b[0m\u001b[0mrating\u001b[0m\u001b[0;34m,\u001b[0m\u001b[0mwo\u001b[0m\u001b[0;34m,\u001b[0m\u001b[0mwsc\u001b[0m\u001b[0;34m,\u001b[0m\u001b[0mx\u001b[0m\u001b[0;34m,\u001b[0m\u001b[0mpf\u001b[0m\u001b[0;34m)\u001b[0m\u001b[0;34m\u001b[0m\u001b[0;34m\u001b[0m\u001b[0m\n",
            "\u001b[0;32m/content/transformer.py\u001b[0m in \u001b[0;36moc\u001b[0;34m(vo, io, wo)\u001b[0m\n",
            "\u001b[0;31mUnboundLocalError\u001b[0m: local variable 'iw' referenced before assignment"
          ]
        }
      ],
      "source": [
        "\n",
        "\n",
        "import transformer\n",
        "rating=int(input(\"enter the transformer rating in voltampere=\"))\n",
        "vo=int(input(\"enter the open ckt test voltage in volts=\"))\n",
        "io=int(input(\"enter the open ckt test current in amps=\"))\n",
        "wo=int(input(\"enter the open ckt test power in watts=\"))\n",
        "vsc=int(input(\"enter the short ckt test voltage in volts=\"))\n",
        "isc=int(input(\"enter the short ckt test current in amps=\"))\n",
        "wsc=int(input(\"enter the short ckt test power in watts=\"))\n",
        "pf=float(input(\"enter the power factor of the transformer=\" ))\n",
        "x=float(input(\"enter the loading of the transformer=\"))\n",
        "[ro,xo]=transformer.oc(vo,io,wo)\n",
        "[rsc,xsc]=transformer.sc(vsc,isc,wsc)\n",
        "[effi,xcu]=transformer.eff(rating,wo,wsc,x,pf)\n",
        "print(\"efficiency=\",effi)\n",
        "print(\"ro=\",ro)\n",
        "print(\"rsc=\",rsc)\n",
        "print(\"xsc=\",xsc)\n",
        "print(\"xcu=\",xcu)\n",
        "\n"
      ]
    }
  ]
}